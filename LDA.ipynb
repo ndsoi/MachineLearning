{
  "nbformat": 4,
  "nbformat_minor": 0,
  "metadata": {
    "colab": {
      "provenance": [],
      "authorship_tag": "ABX9TyPdEKIsva9gFP5kgOO0RdMB",
      "include_colab_link": true
    },
    "kernelspec": {
      "name": "python3",
      "display_name": "Python 3"
    },
    "language_info": {
      "name": "python"
    }
  },
  "cells": [
    {
      "cell_type": "markdown",
      "metadata": {
        "id": "view-in-github",
        "colab_type": "text"
      },
      "source": [
        "<a href=\"https://colab.research.google.com/github/ndsoi/MachineLearning/blob/main/LDA.ipynb\" target=\"_parent\"><img src=\"https://colab.research.google.com/assets/colab-badge.svg\" alt=\"Open In Colab\"/></a>"
      ]
    },
    {
      "cell_type": "markdown",
      "source": [
        "从csv文件中读取数据"
      ],
      "metadata": {
        "id": "Z8Yh_6k_VGuh"
      }
    },
    {
      "cell_type": "code",
      "execution_count": null,
      "metadata": {
        "colab": {
          "base_uri": "https://localhost:8080/"
        },
        "id": "0ljoVelbVGE1",
        "outputId": "71ee87a0-7305-4287-e7d9-e29839926371"
      },
      "outputs": [
        {
          "output_type": "stream",
          "name": "stdout",
          "text": [
            "当前目录: /content\n"
          ]
        }
      ],
      "source": [
        "import os\n",
        "current_directory = os.getcwd()\n",
        "print(\"当前目录:\", current_directory)\n"
      ]
    },
    {
      "cell_type": "code",
      "source": [
        "import csv\n",
        "# 编码方式是gbk，用utf-8会报解码错\n",
        "good_melon = []\n",
        "bad_melon = []\n",
        "with open(\"/content/data3a.csv\",encoding=\"gbk\") as f:\n",
        "  reader = csv.DictReader(f)\n",
        "  for row in reader:\n",
        "    x1,x2 = float(row['密度']),float(row['含糖率'])\n",
        "    # 标签的1是字符串1，不是数字1\n",
        "    if row['标签'] == '1':\n",
        "      good_melon.append([x1,x2])\n",
        "    else:\n",
        "      bad_melon.append([x1,x2])\n",
        "\n",
        "print(good_melon)\n",
        "print(bad_melon)\n",
        "\n"
      ],
      "metadata": {
        "colab": {
          "base_uri": "https://localhost:8080/"
        },
        "id": "KsR0WDmgWuEs",
        "outputId": "69417632-f0b0-49d6-f2df-4d93ab927900"
      },
      "execution_count": null,
      "outputs": [
        {
          "output_type": "stream",
          "name": "stdout",
          "text": [
            "[[0.697, 0.46], [0.774, 0.376], [0.634, 0.264], [0.608, 0.318], [0.556, 0.215], [0.403, 0.237], [0.481, 0.149], [0.437, 0.211]]\n",
            "[[0.666, 0.091], [0.243, 0.0267], [0.245, 0.057], [0.343, 0.099], [0.639, 0.161], [0.657, 0.198], [0.36, 0.37], [0.593, 0.042], [0.719, 0.103]]\n"
          ]
        }
      ]
    },
    {
      "cell_type": "markdown",
      "source": [
        "将列表转化为便于矩阵运算的numpy"
      ],
      "metadata": {
        "id": "d9tRM_swZFwU"
      }
    },
    {
      "cell_type": "code",
      "source": [
        "import numpy as np\n",
        "good_melon = np.array(good_melon)\n",
        "bad_melon = np.array(bad_melon)\n",
        "print(good_melon)\n",
        "print(bad_melon)\n",
        "\n"
      ],
      "metadata": {
        "colab": {
          "base_uri": "https://localhost:8080/"
        },
        "id": "VhpGl5ZrZMTY",
        "outputId": "06540e50-e2be-4cd0-bba3-cc2a7e3193d2"
      },
      "execution_count": null,
      "outputs": [
        {
          "output_type": "stream",
          "name": "stdout",
          "text": [
            "[[0.697 0.46 ]\n",
            " [0.774 0.376]\n",
            " [0.634 0.264]\n",
            " [0.608 0.318]\n",
            " [0.556 0.215]\n",
            " [0.403 0.237]\n",
            " [0.481 0.149]\n",
            " [0.437 0.211]]\n",
            "[[0.666  0.091 ]\n",
            " [0.243  0.0267]\n",
            " [0.245  0.057 ]\n",
            " [0.343  0.099 ]\n",
            " [0.639  0.161 ]\n",
            " [0.657  0.198 ]\n",
            " [0.36   0.37  ]\n",
            " [0.593  0.042 ]\n",
            " [0.719  0.103 ]]\n"
          ]
        }
      ]
    },
    {
      "cell_type": "markdown",
      "source": [
        "计算均值μ<br>\n",
        "构造出$$S_{\\omega} = \\Sigma_0+\\Sigma_1=\\sum_{x\\epsilon X_0}(x-\\mu_0)(x-\\mu_0)^T+\\sum_{x\\epsilon X_1}(x-\\mu_1)(x-\\mu_1)^T$$"
      ],
      "metadata": {
        "id": "XHkYjjxPZ4dc"
      }
    },
    {
      "cell_type": "code",
      "source": [
        "def cal_mu(melon):\n",
        "  x = 0.0\n",
        "  y = 0.0\n",
        "  for i in melon:\n",
        "    x += i[0]\n",
        "    y += i[1]\n",
        "  return [x/len(melon),y/len(melon)]\n",
        "\n",
        "\n",
        "mu_0 = np.array(cal_mu(bad_melon))\n",
        "mu_1 = np.array(cal_mu(good_melon))\n",
        "\n",
        "print(f\"mu_0={mu_0}\")\n",
        "print(f\"mu_1={mu_1}\")\n",
        "\n",
        "\n",
        "def cal_Sigma(melon,mu,shape):\n",
        "  res = np.zeros(shape)\n",
        "\n",
        "  print(f\"res={res}\")\n",
        "  for i in melon:\n",
        "    tmp = np.dot((i-mu),np.transpose(i-mu))\n",
        "\n",
        "    res += np.dot((i-mu),np.transpose(i-mu))\n",
        "  return res\n",
        "\n",
        "Sigma_0 = cal_Sigma(bad_melon,mu_0,(2,2))\n",
        "Sigma_1 = cal_Sigma(good_melon,mu_1,(2,2))\n",
        "\n",
        "print(Sigma_0)\n",
        "print(Sigma_1)\n",
        "\n",
        "S_w = Sigma_0+Sigma_1\n",
        "print(S_w)\n",
        "\n",
        "S_w = np.transpose(S_w)"
      ],
      "metadata": {
        "colab": {
          "base_uri": "https://localhost:8080/"
        },
        "id": "gcvI4Wm0Z0zc",
        "outputId": "d265902e-eb7e-471f-f7b3-9d8688159d17"
      },
      "execution_count": null,
      "outputs": [
        {
          "output_type": "stream",
          "name": "stdout",
          "text": [
            "mu_0=[0.49611111 0.12752222]\n",
            "mu_1=[0.57375 0.27875]\n",
            "res=[[0. 0.]\n",
            " [0. 0.]]\n",
            "res=[[0. 0.]\n",
            " [0. 0.]]\n",
            "[[0.39340752 0.39340752]\n",
            " [0.39340752 0.39340752]]\n",
            "[[0.188167 0.188167]\n",
            " [0.188167 0.188167]]\n",
            "[[0.58157452 0.58157452]\n",
            " [0.58157452 0.58157452]]\n"
          ]
        }
      ]
    },
    {
      "cell_type": "markdown",
      "source": [
        "对Sw进行奇异值分解：\n",
        "$$S_{\\omega} = U\\Sigma V^T$$\n",
        "以此解出$$S_{\\omega}^{-1} = V \\Sigma^{-1}U^T$$"
      ],
      "metadata": {
        "id": "9MR9C5oynY4V"
      }
    },
    {
      "cell_type": "code",
      "source": [
        "U,Sigma,VT = np.linalg.svd(S_w)\n",
        "print(U) # (2,2)\n",
        "print(Sigma) # (2)\n",
        "print(VT)   #(4,4)\n",
        "\n",
        "# 先计算后两个矩阵相乘\n",
        "tmp = (np.dot(1-Sigma,np.transpose(U)))\n",
        "\n",
        "\n",
        "S_w_1 = np.dot(VT.T,tmp)\n",
        "print(S_w_1)"
      ],
      "metadata": {
        "colab": {
          "base_uri": "https://localhost:8080/"
        },
        "id": "XOQaG0vEbPwH",
        "outputId": "9f35117c-44f0-419b-fbc4-50424e742f10"
      },
      "execution_count": null,
      "outputs": [
        {
          "output_type": "stream",
          "name": "stdout",
          "text": [
            "[[-0.70710678 -0.70710678]\n",
            " [-0.70710678  0.70710678]]\n",
            "[1.16314905e+00 7.85046229e-17]\n",
            "[[-0.70710678 -0.70710678]\n",
            " [-0.70710678  0.70710678]]\n",
            "[-0.16314905  1.        ]\n"
          ]
        }
      ]
    },
    {
      "cell_type": "markdown",
      "source": [
        "得到w\n",
        "# $$\\omega = S_{\\omega}^{-1}(\\mu_0-\\mu_1)$$"
      ],
      "metadata": {
        "id": "ukjYX7vl5TLI"
      }
    },
    {
      "cell_type": "code",
      "source": [
        "\n",
        "w = np.dot(S_w_1,(mu_0-mu_1))\n",
        "\n",
        "print(w)"
      ],
      "metadata": {
        "colab": {
          "base_uri": "https://localhost:8080/"
        },
        "id": "zSLpCiNn5SSM",
        "outputId": "ad3ad08d-78b7-4560-9d30-e6574c454d2b"
      },
      "execution_count": null,
      "outputs": [
        {
          "output_type": "stream",
          "name": "stdout",
          "text": [
            "-0.1385610668987654\n"
          ]
        }
      ]
    },
    {
      "cell_type": "markdown",
      "source": [
        "将点和直线可视化\n",
        "y = wx\n"
      ],
      "metadata": {
        "id": "12yHqO8T5ppX"
      }
    },
    {
      "cell_type": "code",
      "source": [
        "import matplotlib.pyplot as plt\n",
        "# 先可视化点\n",
        "g_x1 = [ i[0] for i in good_melon]\n",
        "g_x2 = [ i[1] for i in good_melon]\n",
        "\n",
        "plt.scatter(g_x1,g_x2,c='g')\n",
        "\n",
        "\n",
        "b_x1 = [ i[0] for i in bad_melon]\n",
        "b_x2 = [ i[1] for i in bad_melon]\n",
        "\n",
        "\n",
        "plt.scatter(b_x1,b_x2,c='r')\n",
        "\n",
        "plt.xlabel(\"x1\")\n",
        "plt.ylabel(\"x2\")\n",
        "\n",
        "# 绘制直线\n",
        "#\n",
        "x = np.linspace(0,1,200)\n",
        "y = w*x\n",
        "plt.plot(x,y,\"b\",label=\"line\")\n",
        "\n",
        "\n",
        "\n",
        "\n",
        "plt.show()\n"
      ],
      "metadata": {
        "colab": {
          "base_uri": "https://localhost:8080/",
          "height": 449
        },
        "id": "8cPDhOWK52TJ",
        "outputId": "3afb09e3-1eb8-4887-ea74-89e0571069e9"
      },
      "execution_count": null,
      "outputs": [
        {
          "output_type": "display_data",
          "data": {
            "text/plain": [
              "<Figure size 640x480 with 1 Axes>"
            ],
            "image/png": "[encoded data removed]"
          },
          "metadata": {}
        }
      ]
    }
  ]
}