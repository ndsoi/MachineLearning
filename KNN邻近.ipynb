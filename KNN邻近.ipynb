{
  "nbformat": 4,
  "nbformat_minor": 0,
  "metadata": {
    "colab": {
      "provenance": [],
      "authorship_tag": "ABX9TyPgMbqmo96bTcbbhtfPOcXR",
      "include_colab_link": true
    },
    "kernelspec": {
      "name": "python3",
      "display_name": "Python 3"
    },
    "language_info": {
      "name": "python"
    }
  },
  "cells": [
    {
      "cell_type": "markdown",
      "metadata": {
        "id": "view-in-github",
        "colab_type": "text"
      },
      "source": [
        "<a href=\"https://colab.research.google.com/github/ndsoi/MachineLearning/blob/main/KNN%E9%82%BB%E8%BF%91.ipynb\" target=\"_parent\"><img src=\"https://colab.research.google.com/assets/colab-badge.svg\" alt=\"Open In Colab\"/></a>"
      ]
    },
    {
      "cell_type": "markdown",
      "source": [
        "调用模型"
      ],
      "metadata": {
        "id": "UlVY7N6WPDgg"
      }
    },
    {
      "cell_type": "code",
      "source": [
        "# 导入必要的库\n",
        "from sklearn import datasets\n",
        "from sklearn.model_selection import train_test_split\n",
        "from sklearn.preprocessing import StandardScaler\n",
        "from sklearn.neighbors import KNeighborsClassifier\n",
        "from sklearn.metrics import classification_report, confusion_matrix\n",
        "\n",
        "# 加载鸢尾花数据集\n",
        "iris = datasets.load_iris()\n",
        "X = iris.data\n",
        "y = iris.target\n",
        "\n",
        "# 划分数据集为训练集和测试集\n",
        "X_train, X_test, y_train, y_test = train_test_split(X, y, test_size=0.2, random_state=42)\n",
        "\n",
        "# 数据标准化（可选步骤，但通常对KNN有帮助）\n",
        "scaler = StandardScaler()\n",
        "X_train = scaler.fit_transform(X_train)\n",
        "X_test = scaler.transform(X_test)\n",
        "\n",
        "# 创建KNN分类器实例（这里我们选择K=3作为示例）\n",
        "knn = KNeighborsClassifier(n_neighbors=40)\n",
        "\n",
        "# 训练模型\n",
        "knn.fit(X_train, y_train)\n",
        "\n",
        "# 使用模型进行预测\n",
        "y_pred = knn.predict(X_test)\n",
        "\n",
        "# 打印分类报告和混淆矩阵\n",
        "print(classification_report(y_test, y_pred))\n",
        "print(confusion_matrix(y_test, y_pred))"
      ],
      "metadata": {
        "colab": {
          "base_uri": "https://localhost:8080/"
        },
        "id": "vZuEf7zzIQBJ",
        "outputId": "7eb86fbb-7fce-4d80-e258-f1375586cb84"
      },
      "execution_count": 44,
      "outputs": [
        {
          "output_type": "stream",
          "name": "stdout",
          "text": [
            "              precision    recall  f1-score   support\n",
            "\n",
            "           0       1.00      1.00      1.00        10\n",
            "           1       0.90      1.00      0.95         9\n",
            "           2       1.00      0.91      0.95        11\n",
            "\n",
            "    accuracy                           0.97        30\n",
            "   macro avg       0.97      0.97      0.97        30\n",
            "weighted avg       0.97      0.97      0.97        30\n",
            "\n",
            "[[10  0  0]\n",
            " [ 0  9  0]\n",
            " [ 0  1 10]]\n"
          ]
        }
      ]
    },
    {
      "cell_type": "markdown",
      "source": [
        "自编写过程，好处是可以定义不同的距离计算方式"
      ],
      "metadata": {
        "id": "gsqmWqE4PHoZ"
      }
    },
    {
      "cell_type": "code",
      "source": [
        "## KNN\n",
        "## 自定义欧式距离vsKNN模型（也是欧式距离）\n",
        "import numpy as np\n",
        "# 加载鸢尾花数据集\n",
        "iris = datasets.load_iris()\n",
        "X = iris.data\n",
        "y = iris.target\n",
        "\n",
        "# 划分数据集为训练集和测试集\n",
        "X_train, X_test, y_train, y_test = train_test_split(X, y, test_size=0.2, random_state=42)\n",
        "\n",
        "# 数据标准化（可选步骤，但通常对KNN有帮助）\n",
        "scaler = StandardScaler()\n",
        "X_train = scaler.fit_transform(X_train)\n",
        "X_test = scaler.transform(X_test)\n",
        "\n",
        "def distance(x,xi):\n",
        "  n = xi.shape[0]\n",
        "  sum = 0\n",
        "  for i in range(n):\n",
        "    sum += np.power((x[i]-xi[i]),2)\n",
        "  return np.sqrt(sum)\n",
        "\n",
        "def myKnn(X_train,y_train,x_test,k):\n",
        "  allD = []\n",
        "  for i in range(len(X_train)):\n",
        "    tmp = distance(X_train[i],x_test)\n",
        "    allD.append([tmp,i])\n",
        "\n",
        "  allD.sort(key=lambda x:x[0])\n",
        "\n",
        "  allDk = allD[:k]\n",
        "  res = []\n",
        "  for i in allDk:\n",
        "    res.append(y_train[i[1]])\n",
        "  return max(res,key=res.count)\n",
        "\n",
        "def myKNN(X_train,y_train,X_test,k):\n",
        "  pred = []\n",
        "  n = X_test.shape[0]\n",
        "  for i in range(n):\n",
        "    pred.append(myKnn(X_train,y_train,X_test[i],k))\n",
        "  return pred\n",
        "\n",
        "pred = myKNN(X_train,y_train,X_test,40)\n",
        "acc = 0\n",
        "for i in range(len(pred)):\n",
        "  if pred[i]==y_test[i]:\n",
        "    acc += 1\n",
        "acc /= len(pred)\n",
        "print(f'分类精度{acc}')\n"
      ],
      "metadata": {
        "colab": {
          "base_uri": "https://localhost:8080/"
        },
        "id": "wXQ74wLmJK4K",
        "outputId": "b5f8ccb7-03df-4fb4-f243-120e859770ea"
      },
      "execution_count": 47,
      "outputs": [
        {
          "output_type": "stream",
          "name": "stdout",
          "text": [
            "分类精度0.9666666666666667\n"
          ]
        }
      ]
    }
  ]
}